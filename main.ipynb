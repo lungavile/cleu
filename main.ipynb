{
 "cells": [
  {
   "cell_type": "code",
   "execution_count": 1,
   "metadata": {},
   "outputs": [
    {
     "name": "stdout",
     "output_type": "stream",
     "text": [
      "Different dimension occured in line $2977\n"
     ]
    }
   ],
   "source": [
    "from cleu import plot\n",
    "from cleu.embeddings import Embeddings\n",
    "from cleu.plot import plot_embeddings\n",
    "import importlib\n",
    "importlib.reload(plot_embeddings)\n",
    "\n",
    "clwe_en = Embeddings(dim=300,lang='en')\n",
    "clwe_en.load_embeddings('data/vectors-en.txt',lang='en',max_vocab=10000)\n",
    "\n",
    "clwe_id = Embeddings(dim=300,lang='id')\n",
    "clwe_id.load_embeddings('data/vectors-id.txt',lang='id',max_vocab=10000)\n",
    "\n",
    "\n",
    "clwe_es = Embeddings(dim=300,lang='es')\n",
    "clwe_es.load_embeddings('data/vectors-es.txt',lang='es',max_vocab=10000)\n",
    "\n",
    "# plot_embeddings.plot_embeddings_2d([clwe_id,clwe_en,clwe_es],width=900,height=500,dimensionality_reduction='tsne')"
   ]
  },
  {
   "cell_type": "code",
   "execution_count": 41,
   "metadata": {},
   "outputs": [
    {
     "data": {
      "text/html": [
       "\n",
       "<div id=\"altair-viz-cb90b2bad3d844e2b24a69c54c579931\"></div>\n",
       "<script type=\"text/javascript\">\n",
       "  (function(spec, embedOpt){\n",
       "    let outputDiv = document.currentScript.previousElementSibling;\n",
       "    if (outputDiv.id !== \"altair-viz-cb90b2bad3d844e2b24a69c54c579931\") {\n",
       "      outputDiv = document.getElementById(\"altair-viz-cb90b2bad3d844e2b24a69c54c579931\");\n",
       "    }\n",
       "    const paths = {\n",
       "      \"vega\": \"https://cdn.jsdelivr.net/npm//vega@5?noext\",\n",
       "      \"vega-lib\": \"https://cdn.jsdelivr.net/npm//vega-lib?noext\",\n",
       "      \"vega-lite\": \"https://cdn.jsdelivr.net/npm//vega-lite@4.8.1?noext\",\n",
       "      \"vega-embed\": \"https://cdn.jsdelivr.net/npm//vega-embed@6?noext\",\n",
       "    };\n",
       "\n",
       "    function loadScript(lib) {\n",
       "      return new Promise(function(resolve, reject) {\n",
       "        var s = document.createElement('script');\n",
       "        s.src = paths[lib];\n",
       "        s.async = true;\n",
       "        s.onload = () => resolve(paths[lib]);\n",
       "        s.onerror = () => reject(`Error loading script: ${paths[lib]}`);\n",
       "        document.getElementsByTagName(\"head\")[0].appendChild(s);\n",
       "      });\n",
       "    }\n",
       "\n",
       "    function showError(err) {\n",
       "      outputDiv.innerHTML = `<div class=\"error\" style=\"color:red;\">${err}</div>`;\n",
       "      throw err;\n",
       "    }\n",
       "\n",
       "    function displayChart(vegaEmbed) {\n",
       "      vegaEmbed(outputDiv, spec, embedOpt)\n",
       "        .catch(err => showError(`Javascript Error: ${err.message}<br>This usually means there's a typo in your chart specification. See the javascript console for the full traceback.`));\n",
       "    }\n",
       "\n",
       "    if(typeof define === \"function\" && define.amd) {\n",
       "      requirejs.config({paths});\n",
       "      require([\"vega-embed\"], displayChart, err => showError(`Error loading script: ${err.message}`));\n",
       "    } else if (typeof vegaEmbed === \"function\") {\n",
       "      displayChart(vegaEmbed);\n",
       "    } else {\n",
       "      loadScript(\"vega\")\n",
       "        .then(() => loadScript(\"vega-lite\"))\n",
       "        .then(() => loadScript(\"vega-embed\"))\n",
       "        .catch(showError)\n",
       "        .then(() => displayChart(vegaEmbed));\n",
       "    }\n",
       "  })({\"config\": {\"view\": {\"continuousWidth\": 400, \"continuousHeight\": 300}}, \"layer\": [{\"mark\": {\"type\": \"circle\", \"size\": 60}, \"encoding\": {\"color\": {\"type\": \"nominal\", \"field\": \"Topic\"}, \"tooltip\": [{\"type\": \"nominal\", \"field\": \"name\"}, {\"type\": \"nominal\", \"field\": \"language\"}], \"x\": {\"type\": \"quantitative\", \"field\": \"X-Axis\"}, \"y\": {\"type\": \"quantitative\", \"field\": \"Y-Axis\"}}, \"height\": 500, \"selection\": {\"selector024\": {\"type\": \"interval\", \"bind\": \"scales\", \"encodings\": [\"x\", \"y\"]}}, \"width\": 800}, {\"mark\": {\"type\": \"text\", \"color\": \"black\", \"dx\": -15, \"dy\": 3}, \"encoding\": {\"text\": {\"type\": \"nominal\", \"field\": \"name\"}, \"x\": {\"type\": \"quantitative\", \"field\": \"X-Axis\"}, \"y\": {\"type\": \"quantitative\", \"field\": \"Y-Axis\"}}}], \"data\": {\"name\": \"data-7f500af6c9b256f0655393b96d36f761\"}, \"$schema\": \"https://vega.github.io/schema/vega-lite/v4.8.1.json\", \"datasets\": {\"data-7f500af6c9b256f0655393b96d36f761\": [{\"X-Axis\": 3.1577792167663574, \"Y-Axis\": 8.915392875671387, \"name\": \"makan\", \"language\": \"id\", \"Topic\": \"eat\"}, {\"X-Axis\": 2.832396984100342, \"Y-Axis\": 8.337848663330078, \"name\": \"dimakan\", \"language\": \"id\", \"Topic\": \"eat\"}, {\"X-Axis\": 2.6796250343322754, \"Y-Axis\": 8.646903038024902, \"name\": \"makanan\", \"language\": \"id\", \"Topic\": \"eat\"}, {\"X-Axis\": 2.910773277282715, \"Y-Axis\": 8.379400253295898, \"name\": \"dikonsumsi\", \"language\": \"id\", \"Topic\": \"eat\"}, {\"X-Axis\": 3.29276442527771, \"Y-Axis\": 8.548641204833984, \"name\": \"memakan\", \"language\": \"id\", \"Topic\": \"eat\"}, {\"X-Axis\": 3.7965035438537598, \"Y-Axis\": 7.3740129470825195, \"name\": \"walk\", \"language\": \"id\", \"Topic\": \"walk\"}, {\"X-Axis\": 3.5870776176452637, \"Y-Axis\": 7.099056720733643, \"name\": \"way\", \"language\": \"id\", \"Topic\": \"walk\"}, {\"X-Axis\": 4.710220813751221, \"Y-Axis\": 7.794350624084473, \"name\": \"berjalan\", \"language\": \"id\", \"Topic\": \"walk\"}, {\"X-Axis\": 4.626169204711914, \"Y-Axis\": 8.172548294067383, \"name\": \"lari\", \"language\": \"id\", \"Topic\": \"walk\"}, {\"X-Axis\": 4.577142715454102, \"Y-Axis\": 8.055834770202637, \"name\": \"berlari\", \"language\": \"id\", \"Topic\": \"walk\"}, {\"X-Axis\": 9.843706130981445, \"Y-Axis\": 14.219595909118652, \"name\": \"hipotesis\", \"language\": \"id\", \"Topic\": \"hypothesis\"}, {\"X-Axis\": 9.587553977966309, \"Y-Axis\": 13.944297790527344, \"name\": \"teori\", \"language\": \"id\", \"Topic\": \"hypothesis\"}, {\"X-Axis\": 9.775177001953125, \"Y-Axis\": 13.565983772277832, \"name\": \"asumsi\", \"language\": \"id\", \"Topic\": \"hypothesis\"}, {\"X-Axis\": 10.125025749206543, \"Y-Axis\": 13.84557819366455, \"name\": \"kesimpulan\", \"language\": \"id\", \"Topic\": \"hypothesis\"}, {\"X-Axis\": 10.227057456970215, \"Y-Axis\": 13.88509464263916, \"name\": \"bukti\", \"language\": \"id\", \"Topic\": \"hypothesis\"}, {\"X-Axis\": 2.454690933227539, \"Y-Axis\": 6.920522212982178, \"name\": \"cat\", \"language\": \"id\", \"Topic\": \"cat\"}, {\"X-Axis\": 1.639916181564331, \"Y-Axis\": 7.224870204925537, \"name\": \"kucing\", \"language\": \"id\", \"Topic\": \"cat\"}, {\"X-Axis\": 1.8875932693481445, \"Y-Axis\": 6.6969194412231445, \"name\": \"kelinci\", \"language\": \"id\", \"Topic\": \"cat\"}, {\"X-Axis\": 1.627038836479187, \"Y-Axis\": 7.142154216766357, \"name\": \"peliharaan\", \"language\": \"id\", \"Topic\": \"cat\"}, {\"X-Axis\": 1.6435191631317139, \"Y-Axis\": 6.812985897064209, \"name\": \"anjing\", \"language\": \"id\", \"Topic\": \"cat\"}, {\"X-Axis\": 10.468561172485352, \"Y-Axis\": 15.253094673156738, \"name\": \"studi\", \"language\": \"id\", \"Topic\": \"study\"}, {\"X-Axis\": 10.084733963012695, \"Y-Axis\": 14.602603912353516, \"name\": \"meneliti\", \"language\": \"id\", \"Topic\": \"study\"}, {\"X-Axis\": 10.457620620727539, \"Y-Axis\": 14.639751434326172, \"name\": \"penelitian\", \"language\": \"id\", \"Topic\": \"study\"}, {\"X-Axis\": 10.008041381835938, \"Y-Axis\": 15.329476356506348, \"name\": \"mempelajari\", \"language\": \"id\", \"Topic\": \"study\"}, {\"X-Axis\": 10.629005432128906, \"Y-Axis\": 14.724922180175781, \"name\": \"kajian\", \"language\": \"id\", \"Topic\": \"study\"}, {\"X-Axis\": 9.23072338104248, \"Y-Axis\": 11.204779624938965, \"name\": \"uang\", \"language\": \"id\", \"Topic\": \"money\"}, {\"X-Axis\": 9.249701499938965, \"Y-Axis\": 11.6326265335083, \"name\": \"tunai\", \"language\": \"id\", \"Topic\": \"money\"}, {\"X-Axis\": 9.233756065368652, \"Y-Axis\": 11.32654094696045, \"name\": \"membiayai\", \"language\": \"id\", \"Topic\": \"money\"}, {\"X-Axis\": 8.979216575622559, \"Y-Axis\": 11.736602783203125, \"name\": \"dana\", \"language\": \"id\", \"Topic\": \"money\"}, {\"X-Axis\": 8.69763469696045, \"Y-Axis\": 11.697355270385742, \"name\": \"hutang\", \"language\": \"id\", \"Topic\": \"money\"}, {\"X-Axis\": 7.9247727394104, \"Y-Axis\": 7.313488483428955, \"name\": \"polisi\", \"language\": \"id\", \"Topic\": \"police\"}, {\"X-Axis\": 8.177831649780273, \"Y-Axis\": 6.988077163696289, \"name\": \"kepolisian\", \"language\": \"id\", \"Topic\": \"police\"}, {\"X-Axis\": 8.603386878967285, \"Y-Axis\": 7.410399913787842, \"name\": \"police\", \"language\": \"id\", \"Topic\": \"police\"}, {\"X-Axis\": 8.219369888305664, \"Y-Axis\": 7.352469444274902, \"name\": \"petugas\", \"language\": \"id\", \"Topic\": \"police\"}, {\"X-Axis\": 8.117012977600098, \"Y-Axis\": 7.462578296661377, \"name\": \"aparat\", \"language\": \"id\", \"Topic\": \"police\"}, {\"X-Axis\": 10.133618354797363, \"Y-Axis\": 12.94403076171875, \"name\": \"ikatan\", \"language\": \"id\", \"Topic\": \"bonds\"}, {\"X-Axis\": 10.029489517211914, \"Y-Axis\": 12.754962921142578, \"name\": \"mengikat\", \"language\": \"id\", \"Topic\": \"bonds\"}, {\"X-Axis\": 9.897626876831055, \"Y-Axis\": 12.871030807495117, \"name\": \"terikat\", \"language\": \"id\", \"Topic\": \"bonds\"}, {\"X-Axis\": 8.677481651306152, \"Y-Axis\": 11.527587890625, \"name\": \"obligasi\", \"language\": \"id\", \"Topic\": \"bonds\"}, {\"X-Axis\": 10.289114952087402, \"Y-Axis\": 13.1798734664917, \"name\": \"cincin\", \"language\": \"id\", \"Topic\": \"bonds\"}, {\"X-Axis\": 2.3738486766815186, \"Y-Axis\": 4.606386661529541, \"name\": \"komik\", \"language\": \"id\", \"Topic\": \"comic\"}, {\"X-Axis\": 2.713836193084717, \"Y-Axis\": 4.478191375732422, \"name\": \"comic\", \"language\": \"id\", \"Topic\": \"comic\"}, {\"X-Axis\": 2.752746343612671, \"Y-Axis\": 4.789654731750488, \"name\": \"manga\", \"language\": \"id\", \"Topic\": \"comic\"}, {\"X-Axis\": 2.165825843811035, \"Y-Axis\": 4.8141961097717285, \"name\": \"kartun\", \"language\": \"id\", \"Topic\": \"comic\"}, {\"X-Axis\": 2.496039390563965, \"Y-Axis\": 4.981806755065918, \"name\": \"fiksi\", \"language\": \"id\", \"Topic\": \"comic\"}, {\"X-Axis\": 3.4609076976776123, \"Y-Axis\": 8.449027061462402, \"name\": \"comer\", \"language\": \"es\", \"Topic\": \"eat\"}, {\"X-Axis\": 3.1479544639587402, \"Y-Axis\": 8.256467819213867, \"name\": \"come\", \"language\": \"es\", \"Topic\": \"eat\"}, {\"X-Axis\": 2.9798715114593506, \"Y-Axis\": 8.699033737182617, \"name\": \"comida\", \"language\": \"es\", \"Topic\": \"eat\"}, {\"X-Axis\": 2.912673234939575, \"Y-Axis\": 8.832952499389648, \"name\": \"alimento\", \"language\": \"es\", \"Topic\": \"eat\"}, {\"X-Axis\": 2.7323999404907227, \"Y-Axis\": 8.37330436706543, \"name\": \"carne\", \"language\": \"es\", \"Topic\": \"eat\"}, {\"X-Axis\": 4.21758508682251, \"Y-Axis\": 7.9865641593933105, \"name\": \"recorrer\", \"language\": \"es\", \"Topic\": \"walk\"}, {\"X-Axis\": 4.146332263946533, \"Y-Axis\": 8.049644470214844, \"name\": \"cruzar\", \"language\": \"es\", \"Topic\": \"walk\"}, {\"X-Axis\": 3.8402764797210693, \"Y-Axis\": 8.152950286865234, \"name\": \"disfrutar\", \"language\": \"es\", \"Topic\": \"walk\"}, {\"X-Axis\": 3.9437832832336426, \"Y-Axis\": 7.847383975982666, \"name\": \"paseo\", \"language\": \"es\", \"Topic\": \"walk\"}, {\"X-Axis\": 4.2980828285217285, \"Y-Axis\": 7.778151988983154, \"name\": \"correr\", \"language\": \"es\", \"Topic\": \"walk\"}, {\"X-Axis\": 9.980207443237305, \"Y-Axis\": 14.13511848449707, \"name\": \"hip\\u00f3tesis\", \"language\": \"es\", \"Topic\": \"hypothesis\"}, {\"X-Axis\": 9.660019874572754, \"Y-Axis\": 13.848884582519531, \"name\": \"teor\\u00eda\", \"language\": \"es\", \"Topic\": \"hypothesis\"}, {\"X-Axis\": 10.295581817626953, \"Y-Axis\": 13.826447486877441, \"name\": \"evidencia\", \"language\": \"es\", \"Topic\": \"hypothesis\"}, {\"X-Axis\": 9.742602348327637, \"Y-Axis\": 14.289261817932129, \"name\": \"teor\\u00edas\", \"language\": \"es\", \"Topic\": \"hypothesis\"}, {\"X-Axis\": 9.548264503479004, \"Y-Axis\": 13.488166809082031, \"name\": \"probabilidad\", \"language\": \"es\", \"Topic\": \"hypothesis\"}, {\"X-Axis\": 2.014101982116699, \"Y-Axis\": 7.008980751037598, \"name\": \"gato\", \"language\": \"es\", \"Topic\": \"cat\"}, {\"X-Axis\": 2.0955986976623535, \"Y-Axis\": 6.894007205963135, \"name\": \"perro\", \"language\": \"es\", \"Topic\": \"cat\"}, {\"X-Axis\": 2.611759662628174, \"Y-Axis\": 6.802164554595947, \"name\": \"cat\", \"language\": \"es\", \"Topic\": \"cat\"}, {\"X-Axis\": 2.03596568107605, \"Y-Axis\": 7.157901287078857, \"name\": \"zorro\", \"language\": \"es\", \"Topic\": \"cat\"}, {\"X-Axis\": 1.8491566181182861, \"Y-Axis\": 6.950037479400635, \"name\": \"conejo\", \"language\": \"es\", \"Topic\": \"cat\"}, {\"X-Axis\": 9.826106071472168, \"Y-Axis\": 15.545210838317871, \"name\": \"estudiar\", \"language\": \"es\", \"Topic\": \"study\"}, {\"X-Axis\": 10.105908393859863, \"Y-Axis\": 15.0252046585083, \"name\": \"estudio\", \"language\": \"es\", \"Topic\": \"study\"}, {\"X-Axis\": 10.037769317626953, \"Y-Axis\": 15.03680419921875, \"name\": \"estudios\", \"language\": \"es\", \"Topic\": \"study\"}, {\"X-Axis\": 9.80303955078125, \"Y-Axis\": 15.168915748596191, \"name\": \"estudiado\", \"language\": \"es\", \"Topic\": \"study\"}, {\"X-Axis\": 10.243494033813477, \"Y-Axis\": 15.197120666503906, \"name\": \"estudia\", \"language\": \"es\", \"Topic\": \"study\"}, {\"X-Axis\": 9.342681884765625, \"Y-Axis\": 11.13227653503418, \"name\": \"dinero\", \"language\": \"es\", \"Topic\": \"money\"}, {\"X-Axis\": 8.768574714660645, \"Y-Axis\": 11.332947731018066, \"name\": \"deudas\", \"language\": \"es\", \"Topic\": \"money\"}, {\"X-Axis\": 9.06322956085205, \"Y-Axis\": 11.008249282836914, \"name\": \"pagar\", \"language\": \"es\", \"Topic\": \"money\"}, {\"X-Axis\": 8.95534896850586, \"Y-Axis\": 11.29437255859375, \"name\": \"fondos\", \"language\": \"es\", \"Topic\": \"money\"}, {\"X-Axis\": 9.096749305725098, \"Y-Axis\": 11.507210731506348, \"name\": \"ganancias\", \"language\": \"es\", \"Topic\": \"money\"}, {\"X-Axis\": 8.328634262084961, \"Y-Axis\": 7.438246250152588, \"name\": \"polic\\u00eda\", \"language\": \"es\", \"Topic\": \"police\"}, {\"X-Axis\": 8.30411434173584, \"Y-Axis\": 7.2552690505981445, \"name\": \"policial\", \"language\": \"es\", \"Topic\": \"police\"}, {\"X-Axis\": 8.416119575500488, \"Y-Axis\": 7.175577163696289, \"name\": \"polic\\u00edas\", \"language\": \"es\", \"Topic\": \"police\"}, {\"X-Axis\": 7.971695899963379, \"Y-Axis\": 7.050782680511475, \"name\": \"bomberos\", \"language\": \"es\", \"Topic\": \"police\"}, {\"X-Axis\": 8.115745544433594, \"Y-Axis\": 7.05225133895874, \"name\": \"inspector\", \"language\": \"es\", \"Topic\": \"police\"}, {\"X-Axis\": 10.368937492370605, \"Y-Axis\": 12.874655723571777, \"name\": \"anillo\", \"language\": \"es\", \"Topic\": \"bonds\"}, {\"X-Axis\": 9.202497482299805, \"Y-Axis\": 12.824475288391113, \"name\": \"valores\", \"language\": \"es\", \"Topic\": \"bonds\"}, {\"X-Axis\": 9.562760353088379, \"Y-Axis\": 13.031450271606445, \"name\": \"estabilidad\", \"language\": \"es\", \"Topic\": \"bonds\"}, {\"X-Axis\": 9.105575561523438, \"Y-Axis\": 12.060179710388184, \"name\": \"d\\u00e9ficit\", \"language\": \"es\", \"Topic\": \"bonds\"}, {\"X-Axis\": 9.516814231872559, \"Y-Axis\": 13.990679740905762, \"name\": \"bases\", \"language\": \"es\", \"Topic\": \"bonds\"}, {\"X-Axis\": 2.8328216075897217, \"Y-Axis\": 4.888037204742432, \"name\": \"c\\u00f3mic\", \"language\": \"es\", \"Topic\": \"comic\"}, {\"X-Axis\": 2.508798360824585, \"Y-Axis\": 4.512027740478516, \"name\": \"c\\u00f3mics\", \"language\": \"es\", \"Topic\": \"comic\"}, {\"X-Axis\": 2.579568386077881, \"Y-Axis\": 4.905756950378418, \"name\": \"historietas\", \"language\": \"es\", \"Topic\": \"comic\"}, {\"X-Axis\": 2.760129928588867, \"Y-Axis\": 4.682663440704346, \"name\": \"historieta\", \"language\": \"es\", \"Topic\": \"comic\"}, {\"X-Axis\": 3.0642411708831787, \"Y-Axis\": 4.584742546081543, \"name\": \"comics\", \"language\": \"es\", \"Topic\": \"comic\"}]}}, {\"mode\": \"vega-lite\"});\n",
       "</script>"
      ],
      "text/plain": [
       "alt.LayerChart(...)"
      ]
     },
     "execution_count": 41,
     "metadata": {},
     "output_type": "execute_result"
    }
   ],
   "source": [
    "importlib.reload(plot_embeddings)\n",
    "words_en = [\"eat\",\"walk\",\"hypothesis\",\"cat\",\"study\",\"money\",\"police\",\"bonds\",\"comic\"]\n",
    "emb_en = list(map(lambda word : clwe_en.getEmbeddingByWord(word) ,words_en))\n",
    "\n",
    "plot_embeddings.plot_embeddings_neighbours(emb_en,[clwe_id,clwe_es],width=800,height=500,dimensionality_reduction='umap',k=3,distance_function='csls',csls_k=10)"
   ]
  },
  {
   "cell_type": "code",
   "execution_count": null,
   "metadata": {},
   "outputs": [],
   "source": []
  },
  {
   "cell_type": "code",
   "execution_count": null,
   "metadata": {},
   "outputs": [],
   "source": []
  }
 ],
 "metadata": {
  "interpreter": {
   "hash": "916dbcbb3f70747c44a77c7bcd40155683ae19c65e1c03b4aa3499c5328201f1"
  },
  "kernelspec": {
   "display_name": "Python 3 (ipykernel)",
   "language": "python",
   "name": "python3"
  },
  "language_info": {
   "codemirror_mode": {
    "name": "ipython",
    "version": 3
   },
   "file_extension": ".py",
   "mimetype": "text/x-python",
   "name": "python",
   "nbconvert_exporter": "python",
   "pygments_lexer": "ipython3",
   "version": "3.9.5"
  }
 },
 "nbformat": 4,
 "nbformat_minor": 2
}
